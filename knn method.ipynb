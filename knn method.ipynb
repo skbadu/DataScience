{
 "cells": [
  {
   "cell_type": "code",
   "execution_count": 5,
   "id": "7e8fe9c8",
   "metadata": {},
   "outputs": [],
   "source": [
    "#import important libraris\n",
    "import pandas as pd\n",
    "import numpy as np\n",
    "import matplotlib.pyplot as plt\n",
    "import seaborn as sns"
   ]
  },
  {
   "cell_type": "markdown",
   "id": "9998744f",
   "metadata": {},
   "source": [
    "# CREATE SYMBOL LIST"
   ]
  },
  {
   "cell_type": "code",
   "execution_count": 6,
   "id": "b6faeb0d",
   "metadata": {},
   "outputs": [],
   "source": [
    "#this is the special char list\n",
    "symbols = ['~', ':', \"'\", '+', '[', '\\\\', '@', '^', '{', '%', '(', '-', '\"', '*', '|', ',', '&', '<', '`', '}', '.', '_', '=', ']', '!', '>', ';', '?', '#', '$', ')', '/']\n"
   ]
  },
  {
   "cell_type": "code",
   "execution_count": 7,
   "id": "ed5ccc1a",
   "metadata": {},
   "outputs": [],
   "source": [
    "df=pd.read_excel('/Users/skbadu/OneDrive/epgm/capstone/data/Customer Churn Data.xlsx',sheet_name='Data for DSBA',na_values=symbols)"
   ]
  },
  {
   "cell_type": "code",
   "execution_count": 60,
   "id": "86f39e83",
   "metadata": {},
   "outputs": [
    {
     "data": {
      "text/html": [
       "<div>\n",
       "<style scoped>\n",
       "    .dataframe tbody tr th:only-of-type {\n",
       "        vertical-align: middle;\n",
       "    }\n",
       "\n",
       "    .dataframe tbody tr th {\n",
       "        vertical-align: top;\n",
       "    }\n",
       "\n",
       "    .dataframe thead th {\n",
       "        text-align: right;\n",
       "    }\n",
       "</style>\n",
       "<table border=\"1\" class=\"dataframe\">\n",
       "  <thead>\n",
       "    <tr style=\"text-align: right;\">\n",
       "      <th></th>\n",
       "      <th>AccountID</th>\n",
       "      <th>Churn</th>\n",
       "      <th>Tenure</th>\n",
       "      <th>City_Tier</th>\n",
       "      <th>CC_Contacted_LY</th>\n",
       "      <th>Payment</th>\n",
       "      <th>Gender</th>\n",
       "      <th>Service_Score</th>\n",
       "      <th>Account_user_count</th>\n",
       "      <th>account_segment</th>\n",
       "      <th>CC_Agent_Score</th>\n",
       "      <th>Marital_Status</th>\n",
       "      <th>rev_per_month</th>\n",
       "      <th>Complain_ly</th>\n",
       "      <th>rev_growth_yoy</th>\n",
       "      <th>coupon_used_for_payment</th>\n",
       "      <th>Day_Since_CC_connect</th>\n",
       "      <th>cashback</th>\n",
       "      <th>Login_device</th>\n",
       "    </tr>\n",
       "  </thead>\n",
       "  <tbody>\n",
       "    <tr>\n",
       "      <th>0</th>\n",
       "      <td>20000</td>\n",
       "      <td>1</td>\n",
       "      <td>4.0</td>\n",
       "      <td>3.0</td>\n",
       "      <td>6.0</td>\n",
       "      <td>Debit Card</td>\n",
       "      <td>Female</td>\n",
       "      <td>3.0</td>\n",
       "      <td>3.0</td>\n",
       "      <td>Super</td>\n",
       "      <td>2.0</td>\n",
       "      <td>Single</td>\n",
       "      <td>9.0</td>\n",
       "      <td>1.0</td>\n",
       "      <td>11.0</td>\n",
       "      <td>1.0</td>\n",
       "      <td>5.0</td>\n",
       "      <td>159.93</td>\n",
       "      <td>Mobile</td>\n",
       "    </tr>\n",
       "    <tr>\n",
       "      <th>1</th>\n",
       "      <td>20001</td>\n",
       "      <td>1</td>\n",
       "      <td>0.0</td>\n",
       "      <td>1.0</td>\n",
       "      <td>8.0</td>\n",
       "      <td>UPI</td>\n",
       "      <td>Male</td>\n",
       "      <td>3.0</td>\n",
       "      <td>4.0</td>\n",
       "      <td>Regular Plus</td>\n",
       "      <td>3.0</td>\n",
       "      <td>Single</td>\n",
       "      <td>7.0</td>\n",
       "      <td>1.0</td>\n",
       "      <td>15.0</td>\n",
       "      <td>0.0</td>\n",
       "      <td>0.0</td>\n",
       "      <td>120.90</td>\n",
       "      <td>Mobile</td>\n",
       "    </tr>\n",
       "    <tr>\n",
       "      <th>2</th>\n",
       "      <td>20002</td>\n",
       "      <td>1</td>\n",
       "      <td>0.0</td>\n",
       "      <td>1.0</td>\n",
       "      <td>30.0</td>\n",
       "      <td>Debit Card</td>\n",
       "      <td>Male</td>\n",
       "      <td>2.0</td>\n",
       "      <td>4.0</td>\n",
       "      <td>Regular Plus</td>\n",
       "      <td>3.0</td>\n",
       "      <td>Single</td>\n",
       "      <td>6.0</td>\n",
       "      <td>1.0</td>\n",
       "      <td>14.0</td>\n",
       "      <td>0.0</td>\n",
       "      <td>3.0</td>\n",
       "      <td>NaN</td>\n",
       "      <td>Mobile</td>\n",
       "    </tr>\n",
       "    <tr>\n",
       "      <th>3</th>\n",
       "      <td>20003</td>\n",
       "      <td>1</td>\n",
       "      <td>0.0</td>\n",
       "      <td>3.0</td>\n",
       "      <td>15.0</td>\n",
       "      <td>Debit Card</td>\n",
       "      <td>Male</td>\n",
       "      <td>2.0</td>\n",
       "      <td>4.0</td>\n",
       "      <td>Super</td>\n",
       "      <td>5.0</td>\n",
       "      <td>Single</td>\n",
       "      <td>8.0</td>\n",
       "      <td>0.0</td>\n",
       "      <td>23.0</td>\n",
       "      <td>0.0</td>\n",
       "      <td>3.0</td>\n",
       "      <td>134.07</td>\n",
       "      <td>Mobile</td>\n",
       "    </tr>\n",
       "    <tr>\n",
       "      <th>4</th>\n",
       "      <td>20004</td>\n",
       "      <td>1</td>\n",
       "      <td>0.0</td>\n",
       "      <td>1.0</td>\n",
       "      <td>12.0</td>\n",
       "      <td>Credit Card</td>\n",
       "      <td>Male</td>\n",
       "      <td>2.0</td>\n",
       "      <td>3.0</td>\n",
       "      <td>Regular Plus</td>\n",
       "      <td>5.0</td>\n",
       "      <td>Single</td>\n",
       "      <td>3.0</td>\n",
       "      <td>0.0</td>\n",
       "      <td>11.0</td>\n",
       "      <td>1.0</td>\n",
       "      <td>3.0</td>\n",
       "      <td>129.60</td>\n",
       "      <td>Mobile</td>\n",
       "    </tr>\n",
       "  </tbody>\n",
       "</table>\n",
       "</div>"
      ],
      "text/plain": [
       "   AccountID  Churn  Tenure  City_Tier  CC_Contacted_LY      Payment  Gender  \\\n",
       "0      20000      1     4.0        3.0              6.0   Debit Card  Female   \n",
       "1      20001      1     0.0        1.0              8.0          UPI    Male   \n",
       "2      20002      1     0.0        1.0             30.0   Debit Card    Male   \n",
       "3      20003      1     0.0        3.0             15.0   Debit Card    Male   \n",
       "4      20004      1     0.0        1.0             12.0  Credit Card    Male   \n",
       "\n",
       "   Service_Score  Account_user_count account_segment  CC_Agent_Score  \\\n",
       "0            3.0                 3.0           Super             2.0   \n",
       "1            3.0                 4.0    Regular Plus             3.0   \n",
       "2            2.0                 4.0    Regular Plus             3.0   \n",
       "3            2.0                 4.0           Super             5.0   \n",
       "4            2.0                 3.0    Regular Plus             5.0   \n",
       "\n",
       "  Marital_Status  rev_per_month  Complain_ly  rev_growth_yoy  \\\n",
       "0         Single            9.0          1.0            11.0   \n",
       "1         Single            7.0          1.0            15.0   \n",
       "2         Single            6.0          1.0            14.0   \n",
       "3         Single            8.0          0.0            23.0   \n",
       "4         Single            3.0          0.0            11.0   \n",
       "\n",
       "   coupon_used_for_payment  Day_Since_CC_connect  cashback Login_device  \n",
       "0                      1.0                   5.0    159.93       Mobile  \n",
       "1                      0.0                   0.0    120.90       Mobile  \n",
       "2                      0.0                   3.0       NaN       Mobile  \n",
       "3                      0.0                   3.0    134.07       Mobile  \n",
       "4                      1.0                   3.0    129.60       Mobile  "
      ]
     },
     "execution_count": 60,
     "metadata": {},
     "output_type": "execute_result"
    }
   ],
   "source": [
    "df.head()"
   ]
  },
  {
   "cell_type": "markdown",
   "id": "011bb002",
   "metadata": {},
   "source": [
    "# STEMMING \"GENDER\" AND \"ACOUNT_SEGMENT\""
   ]
  },
  {
   "cell_type": "code",
   "execution_count": 61,
   "id": "a9318f3e",
   "metadata": {},
   "outputs": [
    {
     "data": {
      "text/plain": [
       "array(['Female', 'Male', 'F', nan, 'M'], dtype=object)"
      ]
     },
     "execution_count": 61,
     "metadata": {},
     "output_type": "execute_result"
    }
   ],
   "source": [
    "df['Gender'].unique()"
   ]
  },
  {
   "cell_type": "code",
   "execution_count": 8,
   "id": "d350caab",
   "metadata": {},
   "outputs": [],
   "source": [
    "df[\"Gender\"] = df[\"Gender\"].map({\n",
    "    \"Male\": \"Male\",\n",
    "    \"male\": \"Male\",\n",
    "    \"m\": \"Male\",\n",
    "    \"m \": \"Male\",\n",
    "    \"MALE\": \"Male\",\n",
    "    \"M \":\"Male\",\n",
    "    \"F\": \"Female\",\n",
    "    \"F \": \"Female\",\n",
    "    \"f\": \"Female\",\n",
    "    \"f \": \"Female\",\n",
    "    \"female\": \"Female\",\n",
    "    \"FEMALE\": \"Female\"\n",
    "})"
   ]
  },
  {
   "cell_type": "code",
   "execution_count": 63,
   "id": "582fb51c",
   "metadata": {},
   "outputs": [],
   "source": [
    "df[\"account_segment\"] = df[\"account_segment\"].map({\n",
    "    \"Regular Plus\": \"Regular Plus\",\n",
    "    \"Regular +\": \"Regular Plus\",\n",
    "    \"Regular\": \"Regular\",\n",
    "    \"Super Plus\": \"Super Plus\",\n",
    "    \"Super + \": \"Super Plus\",\n",
    "    \"Super\": \"Super\",\n",
    "    \"HNI\": \"HNI\"\n",
    "})"
   ]
  },
  {
   "cell_type": "code",
   "execution_count": 64,
   "id": "e4aa6be8",
   "metadata": {},
   "outputs": [],
   "source": [
    "df1=df.copy()\n",
    "df2=df.copy()\n",
    "df3=df.copy()\n",
    "df4=df.copy()"
   ]
  },
  {
   "cell_type": "markdown",
   "id": "56245746",
   "metadata": {},
   "source": [
    "# OUTLIER ANALYSIS &TREATMENT"
   ]
  },
  {
   "cell_type": "markdown",
   "id": "dc53c20e",
   "metadata": {},
   "source": [
    "## Tenure"
   ]
  },
  {
   "cell_type": "code",
   "execution_count": 65,
   "id": "f86ab84a",
   "metadata": {},
   "outputs": [
    {
     "name": "stderr",
     "output_type": "stream",
     "text": [
      "/Users/skbadu/opt/anaconda3/lib/python3.9/site-packages/seaborn/_decorators.py:36: FutureWarning: Pass the following variable as a keyword arg: x. From version 0.12, the only valid positional argument will be `data`, and passing other arguments without an explicit keyword will result in an error or misinterpretation.\n",
      "  warnings.warn(\n"
     ]
    },
    {
     "data": {
      "text/plain": [
       "<AxesSubplot:xlabel='Tenure'>"
      ]
     },
     "execution_count": 65,
     "metadata": {},
     "output_type": "execute_result"
    },
    {
     "data": {
      "image/png": "[encoded data removed]",
      "text/plain": [
       "<Figure size 432x288 with 1 Axes>"
      ]
     },
     "metadata": {
      "needs_background": "light"
     },
     "output_type": "display_data"
    }
   ],
   "source": [
    "#USING BOX PLOT\n",
    "import matplotlib.pyplot as plt\n",
    "sns.boxplot(df1['Tenure'])"
   ]
  },
  {
   "cell_type": "code",
   "execution_count": 66,
   "id": "4d02fe45",
   "metadata": {},
   "outputs": [],
   "source": [
    "df_tenure=df1['Tenure'].dropna()"
   ]
  },
  {
   "cell_type": "code",
   "execution_count": 67,
   "id": "aa2e9818",
   "metadata": {},
   "outputs": [],
   "source": [
    "Q1_tenure = np.percentile(df_tenure, 25,\n",
    "                   interpolation = 'midpoint')\n",
    " \n",
    "Q3_tenure = np.percentile(df_tenure, 75,\n",
    "                   interpolation = 'midpoint')\n",
    "IQR_tenure = Q3_tenure - Q1_tenure"
   ]
  },
  {
   "cell_type": "code",
   "execution_count": 68,
   "id": "f27cb699",
   "metadata": {},
   "outputs": [],
   "source": [
    "#Upper Bound\n",
    "upper_tenure = (Q3_tenure+1.5*IQR_tenure)"
   ]
  },
  {
   "cell_type": "code",
   "execution_count": 69,
   "id": "5a50bdf3",
   "metadata": {},
   "outputs": [],
   "source": [
    "#lower Bound\n",
    "lower_tenure = (Q1_tenure-1.5*IQR_tenure)"
   ]
  },
  {
   "cell_type": "markdown",
   "id": "67a34971",
   "metadata": {},
   "source": [
    "## CC_Contacted_LY"
   ]
  },
  {
   "cell_type": "code",
   "execution_count": 70,
   "id": "949dde20",
   "metadata": {},
   "outputs": [
    {
     "name": "stderr",
     "output_type": "stream",
     "text": [
      "/Users/skbadu/opt/anaconda3/lib/python3.9/site-packages/seaborn/_decorators.py:36: FutureWarning: Pass the following variable as a keyword arg: x. From version 0.12, the only valid positional argument will be `data`, and passing other arguments without an explicit keyword will result in an error or misinterpretation.\n",
      "  warnings.warn(\n"
     ]
    },
    {
     "data": {
      "text/plain": [
       "<AxesSubplot:xlabel='CC_Contacted_LY'>"
      ]
     },
     "execution_count": 70,
     "metadata": {},
     "output_type": "execute_result"
    },
    {
     "data": {
      "image/png": "[encoded data removed]",
      "text/plain": [
       "<Figure size 432x288 with 1 Axes>"
      ]
     },
     "metadata": {
      "needs_background": "light"
     },
     "output_type": "display_data"
    }
   ],
   "source": [
    "#USING BOX PLOT\n",
    "import matplotlib.pyplot as plt\n",
    "sns.boxplot(df1['CC_Contacted_LY'])"
   ]
  },
  {
   "cell_type": "code",
   "execution_count": 71,
   "id": "8671be5f",
   "metadata": {},
   "outputs": [],
   "source": [
    "df_CC_Contacted_LY=df1['CC_Contacted_LY'].dropna()"
   ]
  },
  {
   "cell_type": "code",
   "execution_count": 72,
   "id": "0d7be123",
   "metadata": {},
   "outputs": [],
   "source": [
    "Q1_CC_Contacted_LY = np.percentile(df_CC_Contacted_LY, 25,\n",
    "                   interpolation = 'midpoint')\n",
    " \n",
    "Q3_CC_Contacted_LY = np.percentile(df_CC_Contacted_LY, 75,\n",
    "                   interpolation = 'midpoint')\n",
    "IQR_CC_Contacted_LY = Q3_CC_Contacted_LY - Q1_CC_Contacted_LY"
   ]
  },
  {
   "cell_type": "code",
   "execution_count": 73,
   "id": "b1dfbf99",
   "metadata": {},
   "outputs": [
    {
     "data": {
      "text/plain": [
       "12.0"
      ]
     },
     "execution_count": 73,
     "metadata": {},
     "output_type": "execute_result"
    }
   ],
   "source": [
    "IQR_CC_Contacted_LY"
   ]
  },
  {
   "cell_type": "code",
   "execution_count": 74,
   "id": "d412dbc3",
   "metadata": {},
   "outputs": [],
   "source": [
    "#Upper Bound\n",
    "upper_CC_Contacted_LY = (Q3_CC_Contacted_LY+1.5*IQR_CC_Contacted_LY)"
   ]
  },
  {
   "cell_type": "code",
   "execution_count": 75,
   "id": "513b7bf6",
   "metadata": {},
   "outputs": [
    {
     "data": {
      "text/plain": [
       "41.0"
      ]
     },
     "execution_count": 75,
     "metadata": {},
     "output_type": "execute_result"
    }
   ],
   "source": [
    "upper_CC_Contacted_LY"
   ]
  },
  {
   "cell_type": "code",
   "execution_count": 76,
   "id": "c07dac35",
   "metadata": {},
   "outputs": [],
   "source": [
    "#Lower Bound\n",
    "lower_CC_Contacted_LY = (Q1_CC_Contacted_LY-1.5*IQR_CC_Contacted_LY)"
   ]
  },
  {
   "cell_type": "code",
   "execution_count": 77,
   "id": "c167398b",
   "metadata": {},
   "outputs": [
    {
     "data": {
      "text/plain": [
       "-7.0"
      ]
     },
     "execution_count": 77,
     "metadata": {},
     "output_type": "execute_result"
    }
   ],
   "source": [
    "lower_CC_Contacted_LY"
   ]
  },
  {
   "cell_type": "markdown",
   "id": "de42f5f2",
   "metadata": {},
   "source": [
    "## rev_month"
   ]
  },
  {
   "cell_type": "code",
   "execution_count": 78,
   "id": "cab19427",
   "metadata": {},
   "outputs": [
    {
     "name": "stderr",
     "output_type": "stream",
     "text": [
      "/Users/skbadu/opt/anaconda3/lib/python3.9/site-packages/seaborn/_decorators.py:36: FutureWarning: Pass the following variable as a keyword arg: x. From version 0.12, the only valid positional argument will be `data`, and passing other arguments without an explicit keyword will result in an error or misinterpretation.\n",
      "  warnings.warn(\n"
     ]
    },
    {
     "data": {
      "text/plain": [
       "<AxesSubplot:xlabel='rev_per_month'>"
      ]
     },
     "execution_count": 78,
     "metadata": {},
     "output_type": "execute_result"
    },
    {
     "data": {
      "image/png": "[encoded data removed]",
      "text/plain": [
       "<Figure size 432x288 with 1 Axes>"
      ]
     },
     "metadata": {
      "needs_background": "light"
     },
     "output_type": "display_data"
    }
   ],
   "source": [
    "#USING BOX PLOT\n",
    "import matplotlib.pyplot as plt\n",
    "sns.boxplot(df1['rev_per_month'])"
   ]
  },
  {
   "cell_type": "code",
   "execution_count": 79,
   "id": "fa57ef93",
   "metadata": {},
   "outputs": [],
   "source": [
    "df_rev_per_month=df1['rev_per_month'].dropna()"
   ]
  },
  {
   "cell_type": "code",
   "execution_count": 80,
   "id": "ff568811",
   "metadata": {},
   "outputs": [],
   "source": [
    "Q1_rev_per_month = np.percentile(df_rev_per_month, 25,\n",
    "                   interpolation = 'midpoint')\n",
    " \n",
    "Q3_rev_per_month = np.percentile(df_rev_per_month, 75,\n",
    "                   interpolation = 'midpoint')\n",
    "IQR_rev_per_month = Q3_rev_per_month - Q1_rev_per_month"
   ]
  },
  {
   "cell_type": "code",
   "execution_count": 81,
   "id": "26fef3f6",
   "metadata": {},
   "outputs": [
    {
     "data": {
      "text/plain": [
       "4.0"
      ]
     },
     "execution_count": 81,
     "metadata": {},
     "output_type": "execute_result"
    }
   ],
   "source": [
    "IQR_rev_per_month"
   ]
  },
  {
   "cell_type": "code",
   "execution_count": 82,
   "id": "8fa5cd39",
   "metadata": {},
   "outputs": [
    {
     "data": {
      "text/plain": [
       "13.0"
      ]
     },
     "execution_count": 82,
     "metadata": {},
     "output_type": "execute_result"
    }
   ],
   "source": [
    "#Upper Bound\n",
    "upper_rev_per_month = (Q3_rev_per_month+1.5*IQR_rev_per_month)\n",
    "upper_rev_per_month"
   ]
  },
  {
   "cell_type": "code",
   "execution_count": 83,
   "id": "5dbecdfd",
   "metadata": {},
   "outputs": [
    {
     "data": {
      "text/plain": [
       "-3.0"
      ]
     },
     "execution_count": 83,
     "metadata": {},
     "output_type": "execute_result"
    }
   ],
   "source": [
    "#Lower Bound\n",
    "lower_rev_per_month = (Q1_rev_per_month-1.5*IQR_rev_per_month)\n",
    "lower_rev_per_month"
   ]
  },
  {
   "cell_type": "markdown",
   "id": "e930dcf5",
   "metadata": {},
   "source": [
    "## rev_growth_yoy"
   ]
  },
  {
   "cell_type": "code",
   "execution_count": 84,
   "id": "18b2d212",
   "metadata": {},
   "outputs": [
    {
     "name": "stderr",
     "output_type": "stream",
     "text": [
      "/Users/skbadu/opt/anaconda3/lib/python3.9/site-packages/seaborn/_decorators.py:36: FutureWarning: Pass the following variable as a keyword arg: x. From version 0.12, the only valid positional argument will be `data`, and passing other arguments without an explicit keyword will result in an error or misinterpretation.\n",
      "  warnings.warn(\n"
     ]
    },
    {
     "data": {
      "text/plain": [
       "<AxesSubplot:xlabel='rev_growth_yoy'>"
      ]
     },
     "execution_count": 84,
     "metadata": {},
     "output_type": "execute_result"
    },
    {
     "data": {
      "image/png": "[encoded data removed]",
      "text/plain": [
       "<Figure size 432x288 with 1 Axes>"
      ]
     },
     "metadata": {
      "needs_background": "light"
     },
     "output_type": "display_data"
    }
   ],
   "source": [
    "#USING BOX PLOT\n",
    "import matplotlib.pyplot as plt\n",
    "sns.boxplot(df1['rev_growth_yoy'])"
   ]
  },
  {
   "cell_type": "code",
   "execution_count": 85,
   "id": "7b72b09d",
   "metadata": {},
   "outputs": [],
   "source": [
    "df_rev_growth_yoy=df1['rev_growth_yoy'].dropna()"
   ]
  },
  {
   "cell_type": "code",
   "execution_count": 86,
   "id": "cc805855",
   "metadata": {},
   "outputs": [],
   "source": [
    "Q1_rev_growth_yoy = np.percentile(df_rev_growth_yoy, 25,\n",
    "                   interpolation = 'midpoint')\n",
    " \n",
    "Q3_rev_growth_yoy = np.percentile(df_rev_growth_yoy, 75,\n",
    "                   interpolation = 'midpoint')\n",
    "IQR_rev_growth_yoy = Q3_rev_growth_yoy - Q1_rev_growth_yoy"
   ]
  },
  {
   "cell_type": "code",
   "execution_count": 87,
   "id": "12453ed8",
   "metadata": {},
   "outputs": [
    {
     "data": {
      "text/plain": [
       "6.0"
      ]
     },
     "execution_count": 87,
     "metadata": {},
     "output_type": "execute_result"
    }
   ],
   "source": [
    "IQR_rev_growth_yoy"
   ]
  },
  {
   "cell_type": "code",
   "execution_count": 88,
   "id": "c68d44dc",
   "metadata": {},
   "outputs": [
    {
     "data": {
      "text/plain": [
       "28.0"
      ]
     },
     "execution_count": 88,
     "metadata": {},
     "output_type": "execute_result"
    }
   ],
   "source": [
    "#Upper Bound\n",
    "upper_rev_growth_yoy = (Q3_rev_growth_yoy+1.5*IQR_rev_growth_yoy)\n",
    "upper_rev_growth_yoy"
   ]
  },
  {
   "cell_type": "code",
   "execution_count": 89,
   "id": "86858aa0",
   "metadata": {},
   "outputs": [
    {
     "data": {
      "text/plain": [
       "4.0"
      ]
     },
     "execution_count": 89,
     "metadata": {},
     "output_type": "execute_result"
    }
   ],
   "source": [
    "#Lower Bound\n",
    "lower_rev_growth_yoy = (Q1_rev_growth_yoy-1.5*IQR_rev_growth_yoy)\n",
    "lower_rev_growth_yoy"
   ]
  },
  {
   "cell_type": "markdown",
   "id": "9767ff58",
   "metadata": {},
   "source": [
    "## coupon user payment"
   ]
  },
  {
   "cell_type": "code",
   "execution_count": 90,
   "id": "ded1dda4",
   "metadata": {},
   "outputs": [
    {
     "name": "stderr",
     "output_type": "stream",
     "text": [
      "/Users/skbadu/opt/anaconda3/lib/python3.9/site-packages/seaborn/_decorators.py:36: FutureWarning: Pass the following variable as a keyword arg: x. From version 0.12, the only valid positional argument will be `data`, and passing other arguments without an explicit keyword will result in an error or misinterpretation.\n",
      "  warnings.warn(\n"
     ]
    },
    {
     "data": {
      "text/plain": [
       "<AxesSubplot:xlabel='coupon_used_for_payment'>"
      ]
     },
     "execution_count": 90,
     "metadata": {},
     "output_type": "execute_result"
    },
    {
     "data": {
      "image/png": "[encoded data removed]",
      "text/plain": [
       "<Figure size 432x288 with 1 Axes>"
      ]
     },
     "metadata": {
      "needs_background": "light"
     },
     "output_type": "display_data"
    }
   ],
   "source": [
    "#USING BOX PLOT\n",
    "import matplotlib.pyplot as plt\n",
    "sns.boxplot(df1['coupon_used_for_payment'])"
   ]
  },
  {
   "cell_type": "code",
   "execution_count": 91,
   "id": "96d3031f",
   "metadata": {},
   "outputs": [],
   "source": [
    "df_coupon_used_for_payment=df1['coupon_used_for_payment'].dropna()\n",
    "\n",
    "\n",
    "Q1_coupon_used_for_payment = np.percentile(df_coupon_used_for_payment, 25,\n",
    "                   interpolation = 'midpoint')\n",
    " \n",
    "Q3_coupon_used_for_payment = np.percentile(df_coupon_used_for_payment, 75,\n",
    "                   interpolation = 'midpoint')\n",
    "IQR_coupon_used_for_payment = Q3_coupon_used_for_payment - Q1_coupon_used_for_payment"
   ]
  },
  {
   "cell_type": "code",
   "execution_count": 92,
   "id": "065e71ee",
   "metadata": {},
   "outputs": [
    {
     "data": {
      "text/plain": [
       "1.0"
      ]
     },
     "execution_count": 92,
     "metadata": {},
     "output_type": "execute_result"
    }
   ],
   "source": [
    "IQR_coupon_used_for_payment"
   ]
  },
  {
   "cell_type": "code",
   "execution_count": 93,
   "id": "37c7f9f7",
   "metadata": {},
   "outputs": [
    {
     "data": {
      "text/plain": [
       "3.5"
      ]
     },
     "execution_count": 93,
     "metadata": {},
     "output_type": "execute_result"
    }
   ],
   "source": [
    "#Upper Bound\n",
    "upper_coupon_used_for_payment = (Q3_coupon_used_for_payment+1.5*IQR_coupon_used_for_payment)\n",
    "upper_coupon_used_for_payment"
   ]
  },
  {
   "cell_type": "code",
   "execution_count": 94,
   "id": "153b9a87",
   "metadata": {},
   "outputs": [
    {
     "data": {
      "text/plain": [
       "-0.5"
      ]
     },
     "execution_count": 94,
     "metadata": {},
     "output_type": "execute_result"
    }
   ],
   "source": [
    "#Lower Bound\n",
    "lower_coupon_used_for_payment = (Q1_coupon_used_for_payment-1.5*IQR_coupon_used_for_payment)\n",
    "lower_coupon_used_for_payment"
   ]
  },
  {
   "cell_type": "markdown",
   "id": "db33b280",
   "metadata": {},
   "source": [
    "## Day_Since_CC_Connect"
   ]
  },
  {
   "cell_type": "code",
   "execution_count": 95,
   "id": "3b4b3746",
   "metadata": {},
   "outputs": [
    {
     "name": "stderr",
     "output_type": "stream",
     "text": [
      "/Users/skbadu/opt/anaconda3/lib/python3.9/site-packages/seaborn/_decorators.py:36: FutureWarning: Pass the following variable as a keyword arg: x. From version 0.12, the only valid positional argument will be `data`, and passing other arguments without an explicit keyword will result in an error or misinterpretation.\n",
      "  warnings.warn(\n"
     ]
    },
    {
     "data": {
      "text/plain": [
       "<AxesSubplot:xlabel='Day_Since_CC_connect'>"
      ]
     },
     "execution_count": 95,
     "metadata": {},
     "output_type": "execute_result"
    },
    {
     "data": {
      "image/png": "[encoded data removed]",
      "text/plain": [
       "<Figure size 432x288 with 1 Axes>"
      ]
     },
     "metadata": {
      "needs_background": "light"
     },
     "output_type": "display_data"
    }
   ],
   "source": [
    "#USING BOX PLOT\n",
    "import matplotlib.pyplot as plt\n",
    "sns.boxplot(df1['Day_Since_CC_connect'])"
   ]
  },
  {
   "cell_type": "code",
   "execution_count": 96,
   "id": "35ae0d51",
   "metadata": {},
   "outputs": [],
   "source": [
    "df_Day_Since_CC_connect=df1['Day_Since_CC_connect'].dropna()\n",
    "\n",
    "\n",
    "Q1_Day_Since_CC_connect = np.percentile(df_Day_Since_CC_connect, 25,\n",
    "                   interpolation = 'midpoint')\n",
    " \n",
    "Q3_Day_Since_CC_connect = np.percentile(df_Day_Since_CC_connect, 75,\n",
    "                   interpolation = 'midpoint')\n",
    "IQR_Day_Since_CC_connect = Q3_Day_Since_CC_connect - Q1_Day_Since_CC_connect"
   ]
  },
  {
   "cell_type": "code",
   "execution_count": 97,
   "id": "f4cf7022",
   "metadata": {},
   "outputs": [
    {
     "data": {
      "text/plain": [
       "6.0"
      ]
     },
     "execution_count": 97,
     "metadata": {},
     "output_type": "execute_result"
    }
   ],
   "source": [
    "IQR_Day_Since_CC_connect"
   ]
  },
  {
   "cell_type": "code",
   "execution_count": 98,
   "id": "3d47e11f",
   "metadata": {},
   "outputs": [
    {
     "data": {
      "text/plain": [
       "17.0"
      ]
     },
     "execution_count": 98,
     "metadata": {},
     "output_type": "execute_result"
    }
   ],
   "source": [
    "#Upper Bound\n",
    "upper_Day_Since_CC_connect = (Q3_Day_Since_CC_connect+1.5*IQR_Day_Since_CC_connect)\n",
    "upper_Day_Since_CC_connect"
   ]
  },
  {
   "cell_type": "code",
   "execution_count": 99,
   "id": "10be840d",
   "metadata": {},
   "outputs": [
    {
     "data": {
      "text/plain": [
       "-7.0"
      ]
     },
     "execution_count": 99,
     "metadata": {},
     "output_type": "execute_result"
    }
   ],
   "source": [
    "#Lower Bound\n",
    "lower_Day_Since_CC_connect = (Q1_Day_Since_CC_connect-1.5*IQR_Day_Since_CC_connect)\n",
    "lower_Day_Since_CC_connect"
   ]
  },
  {
   "cell_type": "markdown",
   "id": "f3327069",
   "metadata": {},
   "source": [
    "## cashback"
   ]
  },
  {
   "cell_type": "code",
   "execution_count": 100,
   "id": "e2474486",
   "metadata": {},
   "outputs": [
    {
     "name": "stderr",
     "output_type": "stream",
     "text": [
      "/Users/skbadu/opt/anaconda3/lib/python3.9/site-packages/seaborn/_decorators.py:36: FutureWarning: Pass the following variable as a keyword arg: x. From version 0.12, the only valid positional argument will be `data`, and passing other arguments without an explicit keyword will result in an error or misinterpretation.\n",
      "  warnings.warn(\n"
     ]
    },
    {
     "data": {
      "text/plain": [
       "<AxesSubplot:xlabel='cashback'>"
      ]
     },
     "execution_count": 100,
     "metadata": {},
     "output_type": "execute_result"
    },
    {
     "data": {
      "image/png": "[encoded data removed]",
      "text/plain": [
       "<Figure size 432x288 with 1 Axes>"
      ]
     },
     "metadata": {
      "needs_background": "light"
     },
     "output_type": "display_data"
    }
   ],
   "source": [
    "#USING BOX PLOT\n",
    "import matplotlib.pyplot as plt\n",
    "sns.boxplot(df1['cashback'])\n"
   ]
  },
  {
   "cell_type": "code",
   "execution_count": 101,
   "id": "210f766d",
   "metadata": {},
   "outputs": [
    {
     "data": {
      "text/plain": [
       "52.79999999999998"
      ]
     },
     "execution_count": 101,
     "metadata": {},
     "output_type": "execute_result"
    }
   ],
   "source": [
    "df_cashback=df1['cashback'].dropna()\n",
    "\n",
    "Q1_cashback = np.percentile(df_cashback, 25,\n",
    "                   interpolation = 'midpoint')\n",
    " \n",
    "Q3_cashback = np.percentile(df_cashback, 75,\n",
    "                   interpolation = 'midpoint')\n",
    "IQR_cashback = Q3_cashback - Q1_cashback\n",
    "IQR_cashback"
   ]
  },
  {
   "cell_type": "code",
   "execution_count": 102,
   "id": "30f76d7d",
   "metadata": {},
   "outputs": [
    {
     "data": {
      "text/plain": [
       "279.21"
      ]
     },
     "execution_count": 102,
     "metadata": {},
     "output_type": "execute_result"
    }
   ],
   "source": [
    "#Upper Bound\n",
    "upper_cashback = (Q3_cashback+1.5*IQR_cashback)\n",
    "upper_cashback"
   ]
  },
  {
   "cell_type": "code",
   "execution_count": 103,
   "id": "ecd89296",
   "metadata": {},
   "outputs": [
    {
     "data": {
      "text/plain": [
       "68.01000000000003"
      ]
     },
     "execution_count": 103,
     "metadata": {},
     "output_type": "execute_result"
    }
   ],
   "source": [
    "#Lower Bound\n",
    "lower_cashback = (Q1_cashback-1.5*IQR_cashback)\n",
    "lower_cashback"
   ]
  },
  {
   "cell_type": "code",
   "execution_count": 104,
   "id": "de0c8004",
   "metadata": {},
   "outputs": [],
   "source": [
    "df_outliers=pd.DataFrame({'Tenure_lower_bound' : lower_tenure,\n",
    "                          'Tenure_upper_bound' : upper_tenure,\n",
    "                           'CC_Contacted_LY_lower_bound' : lower_CC_Contacted_LY,\n",
    "                            'CC_Contacted_LY_upper_bound' : upper_CC_Contacted_LY,\n",
    "                           'rev_per_month_lower_bound' : lower_rev_per_month,\n",
    "                           'rev_per_month_upper_bound' : upper_rev_per_month,\n",
    "                         'rev_growth_yoy_lower_bound' : lower_rev_growth_yoy,\n",
    "                         'rev_growth_yoy_upper_bound' : upper_rev_growth_yoy,\n",
    "                         'coupon_used_for_payment_lower_bound' : lower_coupon_used_for_payment,\n",
    "                         'coupon_used_for_payment_upper_bound' : upper_coupon_used_for_payment,\n",
    "                         'Day_Since_CC_connect_lower_bound' : lower_Day_Since_CC_connect,\n",
    "                         'Day_Since_CC_connect_upper_bound' : upper_Day_Since_CC_connect,\n",
    "                         'cashback_lower_bound' : lower_cashback,\n",
    "                         'cashback_upper_bound' : upper_cashback,\n",
    "                         },\n",
    "                          index=['values'])"
   ]
  },
  {
   "cell_type": "code",
   "execution_count": 105,
   "id": "f76ec066",
   "metadata": {},
   "outputs": [
    {
     "data": {
      "text/html": [
       "<div>\n",
       "<style scoped>\n",
       "    .dataframe tbody tr th:only-of-type {\n",
       "        vertical-align: middle;\n",
       "    }\n",
       "\n",
       "    .dataframe tbody tr th {\n",
       "        vertical-align: top;\n",
       "    }\n",
       "\n",
       "    .dataframe thead th {\n",
       "        text-align: right;\n",
       "    }\n",
       "</style>\n",
       "<table border=\"1\" class=\"dataframe\">\n",
       "  <thead>\n",
       "    <tr style=\"text-align: right;\">\n",
       "      <th></th>\n",
       "      <th>Tenure_lower_bound</th>\n",
       "      <th>Tenure_upper_bound</th>\n",
       "      <th>CC_Contacted_LY_lower_bound</th>\n",
       "      <th>CC_Contacted_LY_upper_bound</th>\n",
       "      <th>rev_per_month_lower_bound</th>\n",
       "      <th>rev_per_month_upper_bound</th>\n",
       "      <th>rev_growth_yoy_lower_bound</th>\n",
       "      <th>rev_growth_yoy_upper_bound</th>\n",
       "      <th>coupon_used_for_payment_lower_bound</th>\n",
       "      <th>coupon_used_for_payment_upper_bound</th>\n",
       "      <th>Day_Since_CC_connect_lower_bound</th>\n",
       "      <th>Day_Since_CC_connect_upper_bound</th>\n",
       "      <th>cashback_lower_bound</th>\n",
       "      <th>cashback_upper_bound</th>\n",
       "    </tr>\n",
       "  </thead>\n",
       "  <tbody>\n",
       "    <tr>\n",
       "      <th>values</th>\n",
       "      <td>-19.0</td>\n",
       "      <td>37.0</td>\n",
       "      <td>-7.0</td>\n",
       "      <td>41.0</td>\n",
       "      <td>-3.0</td>\n",
       "      <td>13.0</td>\n",
       "      <td>4.0</td>\n",
       "      <td>28.0</td>\n",
       "      <td>-0.5</td>\n",
       "      <td>3.5</td>\n",
       "      <td>-7.0</td>\n",
       "      <td>17.0</td>\n",
       "      <td>68.01</td>\n",
       "      <td>279.21</td>\n",
       "    </tr>\n",
       "  </tbody>\n",
       "</table>\n",
       "</div>"
      ],
      "text/plain": [
       "        Tenure_lower_bound  Tenure_upper_bound  CC_Contacted_LY_lower_bound  \\\n",
       "values               -19.0                37.0                         -7.0   \n",
       "\n",
       "        CC_Contacted_LY_upper_bound  rev_per_month_lower_bound  \\\n",
       "values                         41.0                       -3.0   \n",
       "\n",
       "        rev_per_month_upper_bound  rev_growth_yoy_lower_bound  \\\n",
       "values                       13.0                         4.0   \n",
       "\n",
       "        rev_growth_yoy_upper_bound  coupon_used_for_payment_lower_bound  \\\n",
       "values                        28.0                                 -0.5   \n",
       "\n",
       "        coupon_used_for_payment_upper_bound  Day_Since_CC_connect_lower_bound  \\\n",
       "values                                  3.5                              -7.0   \n",
       "\n",
       "        Day_Since_CC_connect_upper_bound  cashback_lower_bound  \\\n",
       "values                              17.0                 68.01   \n",
       "\n",
       "        cashback_upper_bound  \n",
       "values                279.21  "
      ]
     },
     "execution_count": 105,
     "metadata": {},
     "output_type": "execute_result"
    }
   ],
   "source": [
    "df_outliers"
   ]
  },
  {
   "cell_type": "code",
   "execution_count": 106,
   "id": "d07637aa",
   "metadata": {},
   "outputs": [],
   "source": [
    "df_outliers.to_excel(\"/Users/skbadu/OneDrive/epgm/capstone/data/outliers.xlsx\")"
   ]
  },
  {
   "cell_type": "code",
   "execution_count": 107,
   "id": "e0905ef4",
   "metadata": {},
   "outputs": [
    {
     "name": "stderr",
     "output_type": "stream",
     "text": [
      "/var/folders/xy/yq1cg5r97316z7jc5qnlfyrm0000gn/T/ipykernel_1317/3018451761.py:5: SettingWithCopyWarning: \n",
      "A value is trying to be set on a copy of a slice from a DataFrame\n",
      "\n",
      "See the caveats in the documentation: https://pandas.pydata.org/pandas-docs/stable/user_guide/indexing.html#returning-a-view-versus-a-copy\n",
      "  df['Tenure'][i] = np.where((df['Tenure'][i] > upper_tenure),upper_tenure,df['Tenure'][i])\n",
      "/var/folders/xy/yq1cg5r97316z7jc5qnlfyrm0000gn/T/ipykernel_1317/3018451761.py:6: SettingWithCopyWarning: \n",
      "A value is trying to be set on a copy of a slice from a DataFrame\n",
      "\n",
      "See the caveats in the documentation: https://pandas.pydata.org/pandas-docs/stable/user_guide/indexing.html#returning-a-view-versus-a-copy\n",
      "  df['CC_Contacted_LY'][i] = np.where((df['CC_Contacted_LY'][i] > upper_CC_Contacted_LY),upper_CC_Contacted_LY,df['CC_Contacted_LY'][i])\n",
      "/var/folders/xy/yq1cg5r97316z7jc5qnlfyrm0000gn/T/ipykernel_1317/3018451761.py:7: SettingWithCopyWarning: \n",
      "A value is trying to be set on a copy of a slice from a DataFrame\n",
      "\n",
      "See the caveats in the documentation: https://pandas.pydata.org/pandas-docs/stable/user_guide/indexing.html#returning-a-view-versus-a-copy\n",
      "  df['rev_per_month'][i] = np.where((df['rev_per_month'][i] > upper_rev_per_month),upper_rev_per_month,df['rev_per_month'][i])\n",
      "/var/folders/xy/yq1cg5r97316z7jc5qnlfyrm0000gn/T/ipykernel_1317/3018451761.py:8: SettingWithCopyWarning: \n",
      "A value is trying to be set on a copy of a slice from a DataFrame\n",
      "\n",
      "See the caveats in the documentation: https://pandas.pydata.org/pandas-docs/stable/user_guide/indexing.html#returning-a-view-versus-a-copy\n",
      "  df['coupon_used_for_payment'][i] = np.where((df['coupon_used_for_payment'][i] > upper_coupon_used_for_payment),upper_coupon_used_for_payment,df['coupon_used_for_payment'][i])\n",
      "/var/folders/xy/yq1cg5r97316z7jc5qnlfyrm0000gn/T/ipykernel_1317/3018451761.py:9: SettingWithCopyWarning: \n",
      "A value is trying to be set on a copy of a slice from a DataFrame\n",
      "\n",
      "See the caveats in the documentation: https://pandas.pydata.org/pandas-docs/stable/user_guide/indexing.html#returning-a-view-versus-a-copy\n",
      "  df['Day_Since_CC_connect'][i] = np.where((df['Day_Since_CC_connect'][i] > upper_Day_Since_CC_connect),upper_Day_Since_CC_connect,df['Day_Since_CC_connect'][i])\n",
      "/var/folders/xy/yq1cg5r97316z7jc5qnlfyrm0000gn/T/ipykernel_1317/3018451761.py:10: SettingWithCopyWarning: \n",
      "A value is trying to be set on a copy of a slice from a DataFrame\n",
      "\n",
      "See the caveats in the documentation: https://pandas.pydata.org/pandas-docs/stable/user_guide/indexing.html#returning-a-view-versus-a-copy\n",
      "  df['cashback'][i] = np.where((df['cashback'][i] > upper_cashback),upper_cashback,df['cashback'][i])\n",
      "/var/folders/xy/yq1cg5r97316z7jc5qnlfyrm0000gn/T/ipykernel_1317/3018451761.py:11: SettingWithCopyWarning: \n",
      "A value is trying to be set on a copy of a slice from a DataFrame\n",
      "\n",
      "See the caveats in the documentation: https://pandas.pydata.org/pandas-docs/stable/user_guide/indexing.html#returning-a-view-versus-a-copy\n",
      "  df['Tenure'][i] = np.where((df['Tenure'][i] < lower_tenure),lower_tenure,df1['Tenure'][i])\n",
      "/var/folders/xy/yq1cg5r97316z7jc5qnlfyrm0000gn/T/ipykernel_1317/3018451761.py:12: SettingWithCopyWarning: \n",
      "A value is trying to be set on a copy of a slice from a DataFrame\n",
      "\n",
      "See the caveats in the documentation: https://pandas.pydata.org/pandas-docs/stable/user_guide/indexing.html#returning-a-view-versus-a-copy\n",
      "  df['CC_Contacted_LY'][i] = np.where((df['CC_Contacted_LY'][i] < lower_CC_Contacted_LY),lower_CC_Contacted_LY,df['CC_Contacted_LY'][i])\n",
      "/var/folders/xy/yq1cg5r97316z7jc5qnlfyrm0000gn/T/ipykernel_1317/3018451761.py:13: SettingWithCopyWarning: \n",
      "A value is trying to be set on a copy of a slice from a DataFrame\n",
      "\n",
      "See the caveats in the documentation: https://pandas.pydata.org/pandas-docs/stable/user_guide/indexing.html#returning-a-view-versus-a-copy\n",
      "  df['rev_per_month'][i] = np.where((df['rev_per_month'][i] < lower_rev_per_month),lower_rev_per_month,df['rev_per_month'][i])\n",
      "/var/folders/xy/yq1cg5r97316z7jc5qnlfyrm0000gn/T/ipykernel_1317/3018451761.py:14: SettingWithCopyWarning: \n",
      "A value is trying to be set on a copy of a slice from a DataFrame\n",
      "\n",
      "See the caveats in the documentation: https://pandas.pydata.org/pandas-docs/stable/user_guide/indexing.html#returning-a-view-versus-a-copy\n",
      "  df['coupon_used_for_payment'][i] = np.where((df['coupon_used_for_payment'][i] < lower_coupon_used_for_payment),lower_coupon_used_for_payment,df['coupon_used_for_payment'][i])\n",
      "/var/folders/xy/yq1cg5r97316z7jc5qnlfyrm0000gn/T/ipykernel_1317/3018451761.py:15: SettingWithCopyWarning: \n",
      "A value is trying to be set on a copy of a slice from a DataFrame\n",
      "\n",
      "See the caveats in the documentation: https://pandas.pydata.org/pandas-docs/stable/user_guide/indexing.html#returning-a-view-versus-a-copy\n",
      "  df['Day_Since_CC_connect'][i] = np.where((df['Day_Since_CC_connect'][i] < lower_Day_Since_CC_connect),lower_Day_Since_CC_connect,df['Day_Since_CC_connect'][i])\n",
      "/var/folders/xy/yq1cg5r97316z7jc5qnlfyrm0000gn/T/ipykernel_1317/3018451761.py:16: SettingWithCopyWarning: \n",
      "A value is trying to be set on a copy of a slice from a DataFrame\n",
      "\n",
      "See the caveats in the documentation: https://pandas.pydata.org/pandas-docs/stable/user_guide/indexing.html#returning-a-view-versus-a-copy\n",
      "  df['cashback'][i] = np.where((df['cashback'][i] < lower_cashback),lower_cashback,df['cashback'][i])\n",
      "/var/folders/xy/yq1cg5r97316z7jc5qnlfyrm0000gn/T/ipykernel_1317/3018451761.py:17: SettingWithCopyWarning: \n",
      "A value is trying to be set on a copy of a slice from a DataFrame\n",
      "\n",
      "See the caveats in the documentation: https://pandas.pydata.org/pandas-docs/stable/user_guide/indexing.html#returning-a-view-versus-a-copy\n",
      "  df['rev_growth_yoy'][i] = np.where((df['rev_growth_yoy'][i] < lower_rev_growth_yoy),lower_rev_growth_yoy,df['rev_growth_yoy'][i])\n",
      "/var/folders/xy/yq1cg5r97316z7jc5qnlfyrm0000gn/T/ipykernel_1317/3018451761.py:18: SettingWithCopyWarning: \n",
      "A value is trying to be set on a copy of a slice from a DataFrame\n",
      "\n",
      "See the caveats in the documentation: https://pandas.pydata.org/pandas-docs/stable/user_guide/indexing.html#returning-a-view-versus-a-copy\n",
      "  df['rev_growth_yoy'][i] = np.where((df['rev_growth_yoy'][i] > upper_rev_growth_yoy),upper_rev_growth_yoy,df['rev_growth_yoy'][i])\n"
     ]
    }
   ],
   "source": [
    "# Quantile Based Flooring and Capping\n",
    "#if outlier more than upper quantile replace with upper quantile values\n",
    "#if outlier less than lower quantile replace with lower quantile valuea\n",
    "for i in range (0,len(df1)):\n",
    "    df['Tenure'][i] = np.where((df['Tenure'][i] > upper_tenure),upper_tenure,df['Tenure'][i])\n",
    "    df['CC_Contacted_LY'][i] = np.where((df['CC_Contacted_LY'][i] > upper_CC_Contacted_LY),upper_CC_Contacted_LY,df['CC_Contacted_LY'][i])\n",
    "    df['rev_per_month'][i] = np.where((df['rev_per_month'][i] > upper_rev_per_month),upper_rev_per_month,df['rev_per_month'][i])\n",
    "    df['coupon_used_for_payment'][i] = np.where((df['coupon_used_for_payment'][i] > upper_coupon_used_for_payment),upper_coupon_used_for_payment,df['coupon_used_for_payment'][i])\n",
    "    df['Day_Since_CC_connect'][i] = np.where((df['Day_Since_CC_connect'][i] > upper_Day_Since_CC_connect),upper_Day_Since_CC_connect,df['Day_Since_CC_connect'][i])\n",
    "    df['cashback'][i] = np.where((df['cashback'][i] > upper_cashback),upper_cashback,df['cashback'][i])\n",
    "    df['Tenure'][i] = np.where((df['Tenure'][i] < lower_tenure),lower_tenure,df1['Tenure'][i])\n",
    "    df['CC_Contacted_LY'][i] = np.where((df['CC_Contacted_LY'][i] < lower_CC_Contacted_LY),lower_CC_Contacted_LY,df['CC_Contacted_LY'][i])\n",
    "    df['rev_per_month'][i] = np.where((df['rev_per_month'][i] < lower_rev_per_month),lower_rev_per_month,df['rev_per_month'][i])\n",
    "    df['coupon_used_for_payment'][i] = np.where((df['coupon_used_for_payment'][i] < lower_coupon_used_for_payment),lower_coupon_used_for_payment,df['coupon_used_for_payment'][i])\n",
    "    df['Day_Since_CC_connect'][i] = np.where((df['Day_Since_CC_connect'][i] < lower_Day_Since_CC_connect),lower_Day_Since_CC_connect,df['Day_Since_CC_connect'][i])\n",
    "    df['cashback'][i] = np.where((df['cashback'][i] < lower_cashback),lower_cashback,df['cashback'][i])\n",
    "    df['rev_growth_yoy'][i] = np.where((df['rev_growth_yoy'][i] < lower_rev_growth_yoy),lower_rev_growth_yoy,df['rev_growth_yoy'][i])\n",
    "    df['rev_growth_yoy'][i] = np.where((df['rev_growth_yoy'][i] > upper_rev_growth_yoy),upper_rev_growth_yoy,df['rev_growth_yoy'][i])\n",
    "    i=i+1"
   ]
  },
  {
   "cell_type": "markdown",
   "id": "d3044b99",
   "metadata": {},
   "source": [
    "# KNN Method to handle missing values"
   ]
  },
  {
   "cell_type": "code",
   "execution_count": 108,
   "id": "6b2e1ba9",
   "metadata": {},
   "outputs": [],
   "source": [
    "from sklearn.impute import KNNImputer"
   ]
  },
  {
   "cell_type": "code",
   "execution_count": 109,
   "id": "e9d0e4b8",
   "metadata": {},
   "outputs": [
    {
     "data": {
      "text/html": [
       "<div>\n",
       "<style scoped>\n",
       "    .dataframe tbody tr th:only-of-type {\n",
       "        vertical-align: middle;\n",
       "    }\n",
       "\n",
       "    .dataframe tbody tr th {\n",
       "        vertical-align: top;\n",
       "    }\n",
       "\n",
       "    .dataframe thead th {\n",
       "        text-align: right;\n",
       "    }\n",
       "</style>\n",
       "<table border=\"1\" class=\"dataframe\">\n",
       "  <thead>\n",
       "    <tr style=\"text-align: right;\">\n",
       "      <th></th>\n",
       "      <th>AccountID</th>\n",
       "      <th>Churn</th>\n",
       "      <th>Tenure</th>\n",
       "      <th>City_Tier</th>\n",
       "      <th>CC_Contacted_LY</th>\n",
       "      <th>Payment</th>\n",
       "      <th>Gender</th>\n",
       "      <th>Service_Score</th>\n",
       "      <th>Account_user_count</th>\n",
       "      <th>account_segment</th>\n",
       "      <th>CC_Agent_Score</th>\n",
       "      <th>Marital_Status</th>\n",
       "      <th>rev_per_month</th>\n",
       "      <th>Complain_ly</th>\n",
       "      <th>rev_growth_yoy</th>\n",
       "      <th>coupon_used_for_payment</th>\n",
       "      <th>Day_Since_CC_connect</th>\n",
       "      <th>cashback</th>\n",
       "      <th>Login_device</th>\n",
       "    </tr>\n",
       "  </thead>\n",
       "  <tbody>\n",
       "    <tr>\n",
       "      <th>0</th>\n",
       "      <td>20000</td>\n",
       "      <td>1</td>\n",
       "      <td>4.0</td>\n",
       "      <td>3.0</td>\n",
       "      <td>6.0</td>\n",
       "      <td>Debit Card</td>\n",
       "      <td>Female</td>\n",
       "      <td>3.0</td>\n",
       "      <td>3.0</td>\n",
       "      <td>Super</td>\n",
       "      <td>2.0</td>\n",
       "      <td>Single</td>\n",
       "      <td>9.0</td>\n",
       "      <td>1.0</td>\n",
       "      <td>11.0</td>\n",
       "      <td>1.0</td>\n",
       "      <td>5.0</td>\n",
       "      <td>159.93</td>\n",
       "      <td>Mobile</td>\n",
       "    </tr>\n",
       "    <tr>\n",
       "      <th>1</th>\n",
       "      <td>20001</td>\n",
       "      <td>1</td>\n",
       "      <td>0.0</td>\n",
       "      <td>1.0</td>\n",
       "      <td>8.0</td>\n",
       "      <td>UPI</td>\n",
       "      <td>Male</td>\n",
       "      <td>3.0</td>\n",
       "      <td>4.0</td>\n",
       "      <td>Regular Plus</td>\n",
       "      <td>3.0</td>\n",
       "      <td>Single</td>\n",
       "      <td>7.0</td>\n",
       "      <td>1.0</td>\n",
       "      <td>15.0</td>\n",
       "      <td>0.0</td>\n",
       "      <td>0.0</td>\n",
       "      <td>120.90</td>\n",
       "      <td>Mobile</td>\n",
       "    </tr>\n",
       "    <tr>\n",
       "      <th>2</th>\n",
       "      <td>20002</td>\n",
       "      <td>1</td>\n",
       "      <td>0.0</td>\n",
       "      <td>1.0</td>\n",
       "      <td>30.0</td>\n",
       "      <td>Debit Card</td>\n",
       "      <td>Male</td>\n",
       "      <td>2.0</td>\n",
       "      <td>4.0</td>\n",
       "      <td>Regular Plus</td>\n",
       "      <td>3.0</td>\n",
       "      <td>Single</td>\n",
       "      <td>6.0</td>\n",
       "      <td>1.0</td>\n",
       "      <td>14.0</td>\n",
       "      <td>0.0</td>\n",
       "      <td>3.0</td>\n",
       "      <td>NaN</td>\n",
       "      <td>Mobile</td>\n",
       "    </tr>\n",
       "    <tr>\n",
       "      <th>3</th>\n",
       "      <td>20003</td>\n",
       "      <td>1</td>\n",
       "      <td>0.0</td>\n",
       "      <td>3.0</td>\n",
       "      <td>15.0</td>\n",
       "      <td>Debit Card</td>\n",
       "      <td>Male</td>\n",
       "      <td>2.0</td>\n",
       "      <td>4.0</td>\n",
       "      <td>Super</td>\n",
       "      <td>5.0</td>\n",
       "      <td>Single</td>\n",
       "      <td>8.0</td>\n",
       "      <td>0.0</td>\n",
       "      <td>23.0</td>\n",
       "      <td>0.0</td>\n",
       "      <td>3.0</td>\n",
       "      <td>134.07</td>\n",
       "      <td>Mobile</td>\n",
       "    </tr>\n",
       "    <tr>\n",
       "      <th>4</th>\n",
       "      <td>20004</td>\n",
       "      <td>1</td>\n",
       "      <td>0.0</td>\n",
       "      <td>1.0</td>\n",
       "      <td>12.0</td>\n",
       "      <td>Credit Card</td>\n",
       "      <td>Male</td>\n",
       "      <td>2.0</td>\n",
       "      <td>3.0</td>\n",
       "      <td>Regular Plus</td>\n",
       "      <td>5.0</td>\n",
       "      <td>Single</td>\n",
       "      <td>3.0</td>\n",
       "      <td>0.0</td>\n",
       "      <td>11.0</td>\n",
       "      <td>1.0</td>\n",
       "      <td>3.0</td>\n",
       "      <td>129.60</td>\n",
       "      <td>Mobile</td>\n",
       "    </tr>\n",
       "  </tbody>\n",
       "</table>\n",
       "</div>"
      ],
      "text/plain": [
       "   AccountID  Churn  Tenure  City_Tier  CC_Contacted_LY      Payment  Gender  \\\n",
       "0      20000      1     4.0        3.0              6.0   Debit Card  Female   \n",
       "1      20001      1     0.0        1.0              8.0          UPI    Male   \n",
       "2      20002      1     0.0        1.0             30.0   Debit Card    Male   \n",
       "3      20003      1     0.0        3.0             15.0   Debit Card    Male   \n",
       "4      20004      1     0.0        1.0             12.0  Credit Card    Male   \n",
       "\n",
       "   Service_Score  Account_user_count account_segment  CC_Agent_Score  \\\n",
       "0            3.0                 3.0           Super             2.0   \n",
       "1            3.0                 4.0    Regular Plus             3.0   \n",
       "2            2.0                 4.0    Regular Plus             3.0   \n",
       "3            2.0                 4.0           Super             5.0   \n",
       "4            2.0                 3.0    Regular Plus             5.0   \n",
       "\n",
       "  Marital_Status  rev_per_month  Complain_ly  rev_growth_yoy  \\\n",
       "0         Single            9.0          1.0            11.0   \n",
       "1         Single            7.0          1.0            15.0   \n",
       "2         Single            6.0          1.0            14.0   \n",
       "3         Single            8.0          0.0            23.0   \n",
       "4         Single            3.0          0.0            11.0   \n",
       "\n",
       "   coupon_used_for_payment  Day_Since_CC_connect  cashback Login_device  \n",
       "0                      1.0                   5.0    159.93       Mobile  \n",
       "1                      0.0                   0.0    120.90       Mobile  \n",
       "2                      0.0                   3.0       NaN       Mobile  \n",
       "3                      0.0                   3.0    134.07       Mobile  \n",
       "4                      1.0                   3.0    129.60       Mobile  "
      ]
     },
     "execution_count": 109,
     "metadata": {},
     "output_type": "execute_result"
    }
   ],
   "source": [
    "df.head(\n",
    ")"
   ]
  },
  {
   "cell_type": "code",
   "execution_count": 110,
   "id": "939d346d",
   "metadata": {},
   "outputs": [
    {
     "data": {
      "text/html": [
       "<div>\n",
       "<style scoped>\n",
       "    .dataframe tbody tr th:only-of-type {\n",
       "        vertical-align: middle;\n",
       "    }\n",
       "\n",
       "    .dataframe tbody tr th {\n",
       "        vertical-align: top;\n",
       "    }\n",
       "\n",
       "    .dataframe thead th {\n",
       "        text-align: right;\n",
       "    }\n",
       "</style>\n",
       "<table border=\"1\" class=\"dataframe\">\n",
       "  <thead>\n",
       "    <tr style=\"text-align: right;\">\n",
       "      <th></th>\n",
       "      <th>Payment_Credit Card</th>\n",
       "      <th>Payment_Debit Card</th>\n",
       "      <th>Payment_E wallet</th>\n",
       "      <th>Payment_UPI</th>\n",
       "      <th>Gender_Male</th>\n",
       "      <th>account_segment_Regular</th>\n",
       "      <th>account_segment_Regular Plus</th>\n",
       "      <th>account_segment_Super</th>\n",
       "      <th>account_segment_Super Plus</th>\n",
       "      <th>Marital_Status_Married</th>\n",
       "      <th>Marital_Status_Single</th>\n",
       "      <th>Login_device_Computer</th>\n",
       "      <th>Login_device_Mobile</th>\n",
       "    </tr>\n",
       "  </thead>\n",
       "  <tbody>\n",
       "    <tr>\n",
       "      <th>0</th>\n",
       "      <td>0</td>\n",
       "      <td>1</td>\n",
       "      <td>0</td>\n",
       "      <td>0</td>\n",
       "      <td>0</td>\n",
       "      <td>0</td>\n",
       "      <td>0</td>\n",
       "      <td>1</td>\n",
       "      <td>0</td>\n",
       "      <td>0</td>\n",
       "      <td>1</td>\n",
       "      <td>0</td>\n",
       "      <td>1</td>\n",
       "    </tr>\n",
       "    <tr>\n",
       "      <th>1</th>\n",
       "      <td>0</td>\n",
       "      <td>0</td>\n",
       "      <td>0</td>\n",
       "      <td>1</td>\n",
       "      <td>1</td>\n",
       "      <td>0</td>\n",
       "      <td>1</td>\n",
       "      <td>0</td>\n",
       "      <td>0</td>\n",
       "      <td>0</td>\n",
       "      <td>1</td>\n",
       "      <td>0</td>\n",
       "      <td>1</td>\n",
       "    </tr>\n",
       "    <tr>\n",
       "      <th>2</th>\n",
       "      <td>0</td>\n",
       "      <td>1</td>\n",
       "      <td>0</td>\n",
       "      <td>0</td>\n",
       "      <td>1</td>\n",
       "      <td>0</td>\n",
       "      <td>1</td>\n",
       "      <td>0</td>\n",
       "      <td>0</td>\n",
       "      <td>0</td>\n",
       "      <td>1</td>\n",
       "      <td>0</td>\n",
       "      <td>1</td>\n",
       "    </tr>\n",
       "    <tr>\n",
       "      <th>3</th>\n",
       "      <td>0</td>\n",
       "      <td>1</td>\n",
       "      <td>0</td>\n",
       "      <td>0</td>\n",
       "      <td>1</td>\n",
       "      <td>0</td>\n",
       "      <td>0</td>\n",
       "      <td>1</td>\n",
       "      <td>0</td>\n",
       "      <td>0</td>\n",
       "      <td>1</td>\n",
       "      <td>0</td>\n",
       "      <td>1</td>\n",
       "    </tr>\n",
       "    <tr>\n",
       "      <th>4</th>\n",
       "      <td>1</td>\n",
       "      <td>0</td>\n",
       "      <td>0</td>\n",
       "      <td>0</td>\n",
       "      <td>1</td>\n",
       "      <td>0</td>\n",
       "      <td>1</td>\n",
       "      <td>0</td>\n",
       "      <td>0</td>\n",
       "      <td>0</td>\n",
       "      <td>1</td>\n",
       "      <td>0</td>\n",
       "      <td>1</td>\n",
       "    </tr>\n",
       "  </tbody>\n",
       "</table>\n",
       "</div>"
      ],
      "text/plain": [
       "   Payment_Credit Card  Payment_Debit Card  Payment_E wallet  Payment_UPI  \\\n",
       "0                    0                   1                 0            0   \n",
       "1                    0                   0                 0            1   \n",
       "2                    0                   1                 0            0   \n",
       "3                    0                   1                 0            0   \n",
       "4                    1                   0                 0            0   \n",
       "\n",
       "   Gender_Male  account_segment_Regular  account_segment_Regular Plus  \\\n",
       "0            0                        0                             0   \n",
       "1            1                        0                             1   \n",
       "2            1                        0                             1   \n",
       "3            1                        0                             0   \n",
       "4            1                        0                             1   \n",
       "\n",
       "   account_segment_Super  account_segment_Super Plus  Marital_Status_Married  \\\n",
       "0                      1                           0                       0   \n",
       "1                      0                           0                       0   \n",
       "2                      0                           0                       0   \n",
       "3                      1                           0                       0   \n",
       "4                      0                           0                       0   \n",
       "\n",
       "   Marital_Status_Single  Login_device_Computer  Login_device_Mobile  \n",
       "0                      1                      0                    1  \n",
       "1                      1                      0                    1  \n",
       "2                      1                      0                    1  \n",
       "3                      1                      0                    1  \n",
       "4                      1                      0                    1  "
      ]
     },
     "execution_count": 110,
     "metadata": {},
     "output_type": "execute_result"
    }
   ],
   "source": [
    "# convert categorical to numerical\n",
    "cat_variables = df[['Payment', 'Gender', 'account_segment','Marital_Status','Login_device']]\n",
    "cat_dummies = pd.get_dummies(cat_variables, drop_first=True)\n",
    "cat_dummies.head()"
   ]
  },
  {
   "cell_type": "code",
   "execution_count": 114,
   "id": "a85ac02a",
   "metadata": {},
   "outputs": [
    {
     "data": {
      "text/html": [
       "<div>\n",
       "<style scoped>\n",
       "    .dataframe tbody tr th:only-of-type {\n",
       "        vertical-align: middle;\n",
       "    }\n",
       "\n",
       "    .dataframe tbody tr th {\n",
       "        vertical-align: top;\n",
       "    }\n",
       "\n",
       "    .dataframe thead th {\n",
       "        text-align: right;\n",
       "    }\n",
       "</style>\n",
       "<table border=\"1\" class=\"dataframe\">\n",
       "  <thead>\n",
       "    <tr style=\"text-align: right;\">\n",
       "      <th></th>\n",
       "      <th>AccountID</th>\n",
       "      <th>Churn</th>\n",
       "      <th>Tenure</th>\n",
       "      <th>City_Tier</th>\n",
       "      <th>CC_Contacted_LY</th>\n",
       "      <th>Service_Score</th>\n",
       "      <th>Account_user_count</th>\n",
       "      <th>CC_Agent_Score</th>\n",
       "      <th>rev_per_month</th>\n",
       "      <th>Complain_ly</th>\n",
       "      <th>...</th>\n",
       "      <th>Payment_UPI</th>\n",
       "      <th>Gender_Male</th>\n",
       "      <th>account_segment_Regular</th>\n",
       "      <th>account_segment_Regular Plus</th>\n",
       "      <th>account_segment_Super</th>\n",
       "      <th>account_segment_Super Plus</th>\n",
       "      <th>Marital_Status_Married</th>\n",
       "      <th>Marital_Status_Single</th>\n",
       "      <th>Login_device_Computer</th>\n",
       "      <th>Login_device_Mobile</th>\n",
       "    </tr>\n",
       "  </thead>\n",
       "  <tbody>\n",
       "    <tr>\n",
       "      <th>0</th>\n",
       "      <td>20000</td>\n",
       "      <td>1</td>\n",
       "      <td>4.0</td>\n",
       "      <td>3.0</td>\n",
       "      <td>6.0</td>\n",
       "      <td>3.0</td>\n",
       "      <td>3.0</td>\n",
       "      <td>2.0</td>\n",
       "      <td>9.0</td>\n",
       "      <td>1.0</td>\n",
       "      <td>...</td>\n",
       "      <td>0</td>\n",
       "      <td>0</td>\n",
       "      <td>0</td>\n",
       "      <td>0</td>\n",
       "      <td>1</td>\n",
       "      <td>0</td>\n",
       "      <td>0</td>\n",
       "      <td>1</td>\n",
       "      <td>0</td>\n",
       "      <td>1</td>\n",
       "    </tr>\n",
       "    <tr>\n",
       "      <th>1</th>\n",
       "      <td>20001</td>\n",
       "      <td>1</td>\n",
       "      <td>0.0</td>\n",
       "      <td>1.0</td>\n",
       "      <td>8.0</td>\n",
       "      <td>3.0</td>\n",
       "      <td>4.0</td>\n",
       "      <td>3.0</td>\n",
       "      <td>7.0</td>\n",
       "      <td>1.0</td>\n",
       "      <td>...</td>\n",
       "      <td>1</td>\n",
       "      <td>1</td>\n",
       "      <td>0</td>\n",
       "      <td>1</td>\n",
       "      <td>0</td>\n",
       "      <td>0</td>\n",
       "      <td>0</td>\n",
       "      <td>1</td>\n",
       "      <td>0</td>\n",
       "      <td>1</td>\n",
       "    </tr>\n",
       "    <tr>\n",
       "      <th>2</th>\n",
       "      <td>20002</td>\n",
       "      <td>1</td>\n",
       "      <td>0.0</td>\n",
       "      <td>1.0</td>\n",
       "      <td>30.0</td>\n",
       "      <td>2.0</td>\n",
       "      <td>4.0</td>\n",
       "      <td>3.0</td>\n",
       "      <td>6.0</td>\n",
       "      <td>1.0</td>\n",
       "      <td>...</td>\n",
       "      <td>0</td>\n",
       "      <td>1</td>\n",
       "      <td>0</td>\n",
       "      <td>1</td>\n",
       "      <td>0</td>\n",
       "      <td>0</td>\n",
       "      <td>0</td>\n",
       "      <td>1</td>\n",
       "      <td>0</td>\n",
       "      <td>1</td>\n",
       "    </tr>\n",
       "    <tr>\n",
       "      <th>3</th>\n",
       "      <td>20003</td>\n",
       "      <td>1</td>\n",
       "      <td>0.0</td>\n",
       "      <td>3.0</td>\n",
       "      <td>15.0</td>\n",
       "      <td>2.0</td>\n",
       "      <td>4.0</td>\n",
       "      <td>5.0</td>\n",
       "      <td>8.0</td>\n",
       "      <td>0.0</td>\n",
       "      <td>...</td>\n",
       "      <td>0</td>\n",
       "      <td>1</td>\n",
       "      <td>0</td>\n",
       "      <td>0</td>\n",
       "      <td>1</td>\n",
       "      <td>0</td>\n",
       "      <td>0</td>\n",
       "      <td>1</td>\n",
       "      <td>0</td>\n",
       "      <td>1</td>\n",
       "    </tr>\n",
       "    <tr>\n",
       "      <th>4</th>\n",
       "      <td>20004</td>\n",
       "      <td>1</td>\n",
       "      <td>0.0</td>\n",
       "      <td>1.0</td>\n",
       "      <td>12.0</td>\n",
       "      <td>2.0</td>\n",
       "      <td>3.0</td>\n",
       "      <td>5.0</td>\n",
       "      <td>3.0</td>\n",
       "      <td>0.0</td>\n",
       "      <td>...</td>\n",
       "      <td>0</td>\n",
       "      <td>1</td>\n",
       "      <td>0</td>\n",
       "      <td>1</td>\n",
       "      <td>0</td>\n",
       "      <td>0</td>\n",
       "      <td>0</td>\n",
       "      <td>1</td>\n",
       "      <td>0</td>\n",
       "      <td>1</td>\n",
       "    </tr>\n",
       "  </tbody>\n",
       "</table>\n",
       "<p>5 rows × 40 columns</p>\n",
       "</div>"
      ],
      "text/plain": [
       "   AccountID  Churn  Tenure  City_Tier  CC_Contacted_LY  Service_Score  \\\n",
       "0      20000      1     4.0        3.0              6.0            3.0   \n",
       "1      20001      1     0.0        1.0              8.0            3.0   \n",
       "2      20002      1     0.0        1.0             30.0            2.0   \n",
       "3      20003      1     0.0        3.0             15.0            2.0   \n",
       "4      20004      1     0.0        1.0             12.0            2.0   \n",
       "\n",
       "   Account_user_count  CC_Agent_Score  rev_per_month  Complain_ly  ...  \\\n",
       "0                 3.0             2.0            9.0          1.0  ...   \n",
       "1                 4.0             3.0            7.0          1.0  ...   \n",
       "2                 4.0             3.0            6.0          1.0  ...   \n",
       "3                 4.0             5.0            8.0          0.0  ...   \n",
       "4                 3.0             5.0            3.0          0.0  ...   \n",
       "\n",
       "   Payment_UPI  Gender_Male  account_segment_Regular  \\\n",
       "0            0            0                        0   \n",
       "1            1            1                        0   \n",
       "2            0            1                        0   \n",
       "3            0            1                        0   \n",
       "4            0            1                        0   \n",
       "\n",
       "   account_segment_Regular Plus  account_segment_Super  \\\n",
       "0                             0                      1   \n",
       "1                             1                      0   \n",
       "2                             1                      0   \n",
       "3                             0                      1   \n",
       "4                             1                      0   \n",
       "\n",
       "   account_segment_Super Plus  Marital_Status_Married  Marital_Status_Single  \\\n",
       "0                           0                       0                      1   \n",
       "1                           0                       0                      1   \n",
       "2                           0                       0                      1   \n",
       "3                           0                       0                      1   \n",
       "4                           0                       0                      1   \n",
       "\n",
       "   Login_device_Computer  Login_device_Mobile  \n",
       "0                      0                    1  \n",
       "1                      0                    1  \n",
       "2                      0                    1  \n",
       "3                      0                    1  \n",
       "4                      0                    1  \n",
       "\n",
       "[5 rows x 40 columns]"
      ]
     },
     "execution_count": 114,
     "metadata": {},
     "output_type": "execute_result"
    }
   ],
   "source": [
    "# concatenate converted into original and delete the original categorical\n",
    "df = df.drop(['Payment', 'Gender', 'account_segment','Marital_Status','Login_device'], axis=1)\n",
    "df = pd.concat([df, cat_dummies], axis=1)\n",
    "#df1 = pd.concat([df, cat_dummies], axis=1)\n",
    "df.head()"
   ]
  },
  {
   "cell_type": "code",
   "execution_count": 112,
   "id": "24ab5b85",
   "metadata": {},
   "outputs": [],
   "source": [
    "# used for checking if all columns have been taken care of or not\n",
    "#df.to_excel(\"/Users/skbadu/OneDrive/epgm/capstone/data/output_knn1.xlsx\")"
   ]
  },
  {
   "cell_type": "code",
   "execution_count": 115,
   "id": "26b426c9",
   "metadata": {},
   "outputs": [
    {
     "data": {
      "text/html": [
       "<div>\n",
       "<style scoped>\n",
       "    .dataframe tbody tr th:only-of-type {\n",
       "        vertical-align: middle;\n",
       "    }\n",
       "\n",
       "    .dataframe tbody tr th {\n",
       "        vertical-align: top;\n",
       "    }\n",
       "\n",
       "    .dataframe thead th {\n",
       "        text-align: right;\n",
       "    }\n",
       "</style>\n",
       "<table border=\"1\" class=\"dataframe\">\n",
       "  <thead>\n",
       "    <tr style=\"text-align: right;\">\n",
       "      <th></th>\n",
       "      <th>AccountID</th>\n",
       "      <th>Churn</th>\n",
       "      <th>Tenure</th>\n",
       "      <th>City_Tier</th>\n",
       "      <th>CC_Contacted_LY</th>\n",
       "      <th>Service_Score</th>\n",
       "      <th>Account_user_count</th>\n",
       "      <th>CC_Agent_Score</th>\n",
       "      <th>rev_per_month</th>\n",
       "      <th>Complain_ly</th>\n",
       "      <th>...</th>\n",
       "      <th>Payment_UPI</th>\n",
       "      <th>Gender_Male</th>\n",
       "      <th>account_segment_Regular</th>\n",
       "      <th>account_segment_Regular Plus</th>\n",
       "      <th>account_segment_Super</th>\n",
       "      <th>account_segment_Super Plus</th>\n",
       "      <th>Marital_Status_Married</th>\n",
       "      <th>Marital_Status_Single</th>\n",
       "      <th>Login_device_Computer</th>\n",
       "      <th>Login_device_Mobile</th>\n",
       "    </tr>\n",
       "  </thead>\n",
       "  <tbody>\n",
       "    <tr>\n",
       "      <th>0</th>\n",
       "      <td>0.000000</td>\n",
       "      <td>1.0</td>\n",
       "      <td>0.040404</td>\n",
       "      <td>1.0</td>\n",
       "      <td>0.054054</td>\n",
       "      <td>0.6</td>\n",
       "      <td>0.4</td>\n",
       "      <td>0.25</td>\n",
       "      <td>0.666667</td>\n",
       "      <td>1.0</td>\n",
       "      <td>...</td>\n",
       "      <td>0.0</td>\n",
       "      <td>0.0</td>\n",
       "      <td>0.0</td>\n",
       "      <td>0.0</td>\n",
       "      <td>1.0</td>\n",
       "      <td>0.0</td>\n",
       "      <td>0.0</td>\n",
       "      <td>1.0</td>\n",
       "      <td>0.0</td>\n",
       "      <td>1.0</td>\n",
       "    </tr>\n",
       "    <tr>\n",
       "      <th>1</th>\n",
       "      <td>0.000089</td>\n",
       "      <td>1.0</td>\n",
       "      <td>0.000000</td>\n",
       "      <td>0.0</td>\n",
       "      <td>0.108108</td>\n",
       "      <td>0.6</td>\n",
       "      <td>0.6</td>\n",
       "      <td>0.50</td>\n",
       "      <td>0.500000</td>\n",
       "      <td>1.0</td>\n",
       "      <td>...</td>\n",
       "      <td>1.0</td>\n",
       "      <td>1.0</td>\n",
       "      <td>0.0</td>\n",
       "      <td>1.0</td>\n",
       "      <td>0.0</td>\n",
       "      <td>0.0</td>\n",
       "      <td>0.0</td>\n",
       "      <td>1.0</td>\n",
       "      <td>0.0</td>\n",
       "      <td>1.0</td>\n",
       "    </tr>\n",
       "    <tr>\n",
       "      <th>2</th>\n",
       "      <td>0.000178</td>\n",
       "      <td>1.0</td>\n",
       "      <td>0.000000</td>\n",
       "      <td>0.0</td>\n",
       "      <td>0.702703</td>\n",
       "      <td>0.4</td>\n",
       "      <td>0.6</td>\n",
       "      <td>0.50</td>\n",
       "      <td>0.416667</td>\n",
       "      <td>1.0</td>\n",
       "      <td>...</td>\n",
       "      <td>0.0</td>\n",
       "      <td>1.0</td>\n",
       "      <td>0.0</td>\n",
       "      <td>1.0</td>\n",
       "      <td>0.0</td>\n",
       "      <td>0.0</td>\n",
       "      <td>0.0</td>\n",
       "      <td>1.0</td>\n",
       "      <td>0.0</td>\n",
       "      <td>1.0</td>\n",
       "    </tr>\n",
       "    <tr>\n",
       "      <th>3</th>\n",
       "      <td>0.000266</td>\n",
       "      <td>1.0</td>\n",
       "      <td>0.000000</td>\n",
       "      <td>1.0</td>\n",
       "      <td>0.297297</td>\n",
       "      <td>0.4</td>\n",
       "      <td>0.6</td>\n",
       "      <td>1.00</td>\n",
       "      <td>0.583333</td>\n",
       "      <td>0.0</td>\n",
       "      <td>...</td>\n",
       "      <td>0.0</td>\n",
       "      <td>1.0</td>\n",
       "      <td>0.0</td>\n",
       "      <td>0.0</td>\n",
       "      <td>1.0</td>\n",
       "      <td>0.0</td>\n",
       "      <td>0.0</td>\n",
       "      <td>1.0</td>\n",
       "      <td>0.0</td>\n",
       "      <td>1.0</td>\n",
       "    </tr>\n",
       "    <tr>\n",
       "      <th>4</th>\n",
       "      <td>0.000355</td>\n",
       "      <td>1.0</td>\n",
       "      <td>0.000000</td>\n",
       "      <td>0.0</td>\n",
       "      <td>0.216216</td>\n",
       "      <td>0.4</td>\n",
       "      <td>0.4</td>\n",
       "      <td>1.00</td>\n",
       "      <td>0.166667</td>\n",
       "      <td>0.0</td>\n",
       "      <td>...</td>\n",
       "      <td>0.0</td>\n",
       "      <td>1.0</td>\n",
       "      <td>0.0</td>\n",
       "      <td>1.0</td>\n",
       "      <td>0.0</td>\n",
       "      <td>0.0</td>\n",
       "      <td>0.0</td>\n",
       "      <td>1.0</td>\n",
       "      <td>0.0</td>\n",
       "      <td>1.0</td>\n",
       "    </tr>\n",
       "  </tbody>\n",
       "</table>\n",
       "<p>5 rows × 40 columns</p>\n",
       "</div>"
      ],
      "text/plain": [
       "   AccountID  Churn    Tenure  City_Tier  CC_Contacted_LY  Service_Score  \\\n",
       "0   0.000000    1.0  0.040404        1.0         0.054054            0.6   \n",
       "1   0.000089    1.0  0.000000        0.0         0.108108            0.6   \n",
       "2   0.000178    1.0  0.000000        0.0         0.702703            0.4   \n",
       "3   0.000266    1.0  0.000000        1.0         0.297297            0.4   \n",
       "4   0.000355    1.0  0.000000        0.0         0.216216            0.4   \n",
       "\n",
       "   Account_user_count  CC_Agent_Score  rev_per_month  Complain_ly  ...  \\\n",
       "0                 0.4            0.25       0.666667          1.0  ...   \n",
       "1                 0.6            0.50       0.500000          1.0  ...   \n",
       "2                 0.6            0.50       0.416667          1.0  ...   \n",
       "3                 0.6            1.00       0.583333          0.0  ...   \n",
       "4                 0.4            1.00       0.166667          0.0  ...   \n",
       "\n",
       "   Payment_UPI  Gender_Male  account_segment_Regular  \\\n",
       "0          0.0          0.0                      0.0   \n",
       "1          1.0          1.0                      0.0   \n",
       "2          0.0          1.0                      0.0   \n",
       "3          0.0          1.0                      0.0   \n",
       "4          0.0          1.0                      0.0   \n",
       "\n",
       "   account_segment_Regular Plus  account_segment_Super  \\\n",
       "0                           0.0                    1.0   \n",
       "1                           1.0                    0.0   \n",
       "2                           1.0                    0.0   \n",
       "3                           0.0                    1.0   \n",
       "4                           1.0                    0.0   \n",
       "\n",
       "   account_segment_Super Plus  Marital_Status_Married  Marital_Status_Single  \\\n",
       "0                         0.0                     0.0                    1.0   \n",
       "1                         0.0                     0.0                    1.0   \n",
       "2                         0.0                     0.0                    1.0   \n",
       "3                         0.0                     0.0                    1.0   \n",
       "4                         0.0                     0.0                    1.0   \n",
       "\n",
       "   Login_device_Computer  Login_device_Mobile  \n",
       "0                    0.0                  1.0  \n",
       "1                    0.0                  1.0  \n",
       "2                    0.0                  1.0  \n",
       "3                    0.0                  1.0  \n",
       "4                    0.0                  1.0  \n",
       "\n",
       "[5 rows x 40 columns]"
      ]
     },
     "execution_count": 115,
     "metadata": {},
     "output_type": "execute_result"
    }
   ],
   "source": [
    "#normalized the data\n",
    "from sklearn.preprocessing import MinMaxScaler\n",
    "scaler = MinMaxScaler()\n",
    "df = pd.DataFrame(scaler.fit_transform(df), columns = df.columns)\n",
    "df.head()"
   ]
  },
  {
   "cell_type": "code",
   "execution_count": 116,
   "id": "061bf9c3",
   "metadata": {},
   "outputs": [],
   "source": [
    "# used KNN method to replace missing values\n",
    "from sklearn.impute import KNNImputer\n",
    "imputer = KNNImputer(n_neighbors=5)\n",
    "df = pd.DataFrame(imputer.fit_transform(df),columns = df.columns)"
   ]
  },
  {
   "cell_type": "code",
   "execution_count": 117,
   "id": "993e9bed",
   "metadata": {},
   "outputs": [
    {
     "data": {
      "text/plain": [
       "AccountID                       0\n",
       "Churn                           0\n",
       "Tenure                          0\n",
       "City_Tier                       0\n",
       "CC_Contacted_LY                 0\n",
       "Service_Score                   0\n",
       "Account_user_count              0\n",
       "CC_Agent_Score                  0\n",
       "rev_per_month                   0\n",
       "Complain_ly                     0\n",
       "rev_growth_yoy                  0\n",
       "coupon_used_for_payment         0\n",
       "Day_Since_CC_connect            0\n",
       "cashback                        0\n",
       "Payment_Credit Card             0\n",
       "Payment_Debit Card              0\n",
       "Payment_E wallet                0\n",
       "Payment_UPI                     0\n",
       "Gender_Male                     0\n",
       "account_segment_Regular         0\n",
       "account_segment_Regular Plus    0\n",
       "account_segment_Super           0\n",
       "account_segment_Super Plus      0\n",
       "Marital_Status_Married          0\n",
       "Marital_Status_Single           0\n",
       "Login_device_Computer           0\n",
       "Login_device_Mobile             0\n",
       "Payment_Credit Card             0\n",
       "Payment_Debit Card              0\n",
       "Payment_E wallet                0\n",
       "Payment_UPI                     0\n",
       "Gender_Male                     0\n",
       "account_segment_Regular         0\n",
       "account_segment_Regular Plus    0\n",
       "account_segment_Super           0\n",
       "account_segment_Super Plus      0\n",
       "Marital_Status_Married          0\n",
       "Marital_Status_Single           0\n",
       "Login_device_Computer           0\n",
       "Login_device_Mobile             0\n",
       "dtype: int64"
      ]
     },
     "execution_count": 117,
     "metadata": {},
     "output_type": "execute_result"
    }
   ],
   "source": [
    "df.isnull().sum()"
   ]
  },
  {
   "cell_type": "code",
   "execution_count": null,
   "id": "d40b6f95",
   "metadata": {},
   "outputs": [],
   "source": [
    "df.to_excel(\"/Users/skbadu/OneDrive/epgm/capstone/data/output_knn.xlsx\")"
   ]
  },
  {
   "cell_type": "code",
   "execution_count": null,
   "id": "f3707d5c",
   "metadata": {},
   "outputs": [],
   "source": []
  }
 ],
 "metadata": {
  "kernelspec": {
   "display_name": "Python 3 (ipykernel)",
   "language": "python",
   "name": "python3"
  },
  "language_info": {
   "codemirror_mode": {
    "name": "ipython",
    "version": 3
   },
   "file_extension": ".py",
   "mimetype": "text/x-python",
   "name": "python",
   "nbconvert_exporter": "python",
   "pygments_lexer": "ipython3",
   "version": "3.9.7"
  }
 },
 "nbformat": 4,
 "nbformat_minor": 5
}
